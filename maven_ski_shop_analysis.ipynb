{
 "cells": [
  {
   "cell_type": "markdown",
   "id": "2d7d830c",
   "metadata": {},
   "source": [
    "# Final Project: Black Friday Excel Data"
   ]
  },
  {
   "cell_type": "code",
   "execution_count": 1,
   "id": "59343dde",
   "metadata": {},
   "outputs": [],
   "source": [
    "import openpyxl as xl\n",
    "import tax_calculator as tc\n",
    "import numpy as np\n",
    "# pprint prints dictionaries a bit more nicely than print\n",
    "from pprint import pprint"
   ]
  },
  {
   "cell_type": "markdown",
   "id": "b323bd31",
   "metadata": {},
   "source": [
    "## Part 1\n",
    "\n",
    "First, read in maven_ski_shop_data.xlsx\n",
    "\n",
    "Then, assign the orders worksheet to an intuitive variable name. "
   ]
  },
  {
   "cell_type": "code",
   "execution_count": 2,
   "id": "d4407995",
   "metadata": {},
   "outputs": [],
   "source": [
    "wb = xl.load_workbook('maven_ski_shop_data.xlsx')\n",
    "wb.sheetnames\n",
    "orders = wb['Orders_Info']"
   ]
  },
  {
   "cell_type": "markdown",
   "id": "0fdff76c",
   "metadata": {},
   "source": [
    "### Column Printer Function\n",
    "\n",
    "Since we'll be working with Excel frequently, let's create a helper function to print all the rows a specified column.\n",
    "\n",
    "This will help us view imported data without looking at Excel, and review the data we've written into columns without needing to save a file to review the changes.\n",
    "\n",
    "Your function should take two arguments:\n",
    "\n",
    "* Worksheet where data is located\n",
    "* Column Letter of data to print\n",
    "\n",
    "Your function should:\n",
    "\n",
    "* Print Cell Coordinate (e.g. A1, D4).\n",
    "* Print the contents of the cell.\n",
    "\n",
    "Then call your function twice:\n",
    "\n",
    "* Once to print Order ID (column A in 'Orders_Info')\n",
    "* Once to print subtotal (column D in 'Orders_Info')"
   ]
  },
  {
   "cell_type": "code",
   "execution_count": 3,
   "id": "239d64b3",
   "metadata": {},
   "outputs": [],
   "source": [
    "def column_printer(worksheet, column_to_print):\n",
    "    for i in range(1, worksheet.max_row + 1):\n",
    "        print(f'{column_to_print}{i}', worksheet[f'{column_to_print}{i}'].value)"
   ]
  },
  {
   "cell_type": "code",
   "execution_count": 4,
   "id": "4d1b8dac",
   "metadata": {},
   "outputs": [
    {
     "name": "stdout",
     "output_type": "stream",
     "text": [
      "A1 Order_ID\n",
      "A2 100000\n",
      "A3 100001\n",
      "A4 100002\n",
      "A5 100003\n",
      "A6 100004\n",
      "A7 100005\n",
      "A8 100006\n",
      "A9 100007\n",
      "A10 100008\n",
      "A11 100009\n",
      "A12 100010\n",
      "A13 100011\n",
      "A14 100012\n",
      "A15 100013\n",
      "A16 100014\n",
      "A17 100020\n",
      "A18 100021\n",
      "A19 100022\n",
      "A20 100023\n",
      "A21 100024\n",
      "A22 100025\n",
      "A23 100026\n",
      "A24 100027\n",
      "A25 100031\n",
      "A26 100032\n",
      "A27 100033\n",
      "A28 100034\n"
     ]
    }
   ],
   "source": [
    "column_printer(orders, 'A')"
   ]
  },
  {
   "cell_type": "code",
   "execution_count": 5,
   "id": "543d8bba-b749-49da-b52f-487a6d5aae91",
   "metadata": {},
   "outputs": [
    {
     "name": "stdout",
     "output_type": "stream",
     "text": [
      "D1 Subtotal\n",
      "D2 15.98\n",
      "D3 899.97\n",
      "D4 799.97\n",
      "D5 117.96\n",
      "D6 5.99\n",
      "D7 599.99\n",
      "D8 24.99\n",
      "D9 1799.94\n",
      "D10 99.99\n",
      "D11 254.95\n",
      "D12 29.98\n",
      "D13 99.99\n",
      "D14 25.98\n",
      "D15 649.98\n",
      "D16 89.99\n",
      "D17 119.99\n",
      "D18 599.99\n",
      "D19 649.98\n",
      "D20 24.99\n",
      "D21 99.99\n",
      "D22 99.99\n",
      "D23 5.99\n",
      "D24 24.99\n",
      "D25 999.96\n",
      "D26 99.99\n",
      "D27 399.97\n",
      "D28 89.99\n"
     ]
    }
   ],
   "source": [
    "column_printer(orders, 'D')"
   ]
  },
  {
   "cell_type": "code",
   "execution_count": 6,
   "id": "8146bf34",
   "metadata": {},
   "outputs": [
    {
     "name": "stdout",
     "output_type": "stream",
     "text": [
      "A1 Order_ID\n",
      "A2 100000\n",
      "A3 100001\n",
      "A4 100002\n",
      "A5 100003\n",
      "A6 100004\n",
      "A7 100005\n",
      "A8 100006\n",
      "A9 100007\n",
      "A10 100008\n",
      "A11 100009\n",
      "A12 100010\n",
      "A13 100011\n",
      "A14 100012\n",
      "A15 100013\n",
      "A16 100014\n",
      "A17 100020\n",
      "A18 100021\n",
      "A19 100022\n",
      "A20 100023\n",
      "A21 100024\n",
      "A22 100025\n",
      "A23 100026\n",
      "A24 100027\n",
      "A25 100031\n",
      "A26 100032\n",
      "A27 100033\n",
      "A28 100034\n"
     ]
    }
   ],
   "source": [
    "column_printer(orders, 'A')"
   ]
  },
  {
   "cell_type": "code",
   "execution_count": 7,
   "id": "3eefb08f-ec03-4b58-bcb9-266ab75ffd70",
   "metadata": {},
   "outputs": [
    {
     "name": "stdout",
     "output_type": "stream",
     "text": [
      "B1 Customer_ID\n",
      "B2 C00004\n",
      "B3 C00007\n",
      "B4 C00015\n",
      "B5 C00016\n",
      "B6 C00020\n",
      "B7 C00010\n",
      "B8 C00006\n",
      "B9 C00001\n",
      "B10 C00003\n",
      "B11 C00014\n",
      "B12 C00001\n",
      "B13 C00001\n",
      "B14 C00005\n",
      "B15 C00008\n",
      "B16 C00013\n",
      "B17 C00004\n",
      "B18 C00017\n",
      "B19 C00019\n",
      "B20 C00002\n",
      "B21 C00008\n",
      "B22 C00021\n",
      "B23 C00022\n",
      "B24 C00006\n",
      "B25 C00018\n",
      "B26 C00018\n",
      "B27 C00010\n",
      "B28 C00016\n"
     ]
    }
   ],
   "source": [
    "column_printer(orders, 'B')"
   ]
  },
  {
   "cell_type": "code",
   "execution_count": 8,
   "id": "32c42551-736e-484f-81d0-9f67f1a6d03a",
   "metadata": {},
   "outputs": [
    {
     "name": "stdout",
     "output_type": "stream",
     "text": [
      "C1 Order_Date\n",
      "C2 11/26/2021\n",
      "C3 11/26/2021\n",
      "C4 11/26/2021\n",
      "C5 11/26/2021\n",
      "C6 11/26/2021\n",
      "C7 11/26/2021\n",
      "C8 11/26/2021\n",
      "C9 11/26/2021\n",
      "C10 11/26/2021\n",
      "C11 11/26/2021\n",
      "C12 11/26/2021\n",
      "C13 11/26/2021\n",
      "C14 11/26/2021\n",
      "C15 11/26/2021\n",
      "C16 11/26/2021\n",
      "C17 11/27/2021\n",
      "C18 11/27/2021\n",
      "C19 11/27/2021\n",
      "C20 11/27/2021\n",
      "C21 11/27/2021\n",
      "C22 11/27/2021\n",
      "C23 11/27/2021\n",
      "C24 11/28/2021\n",
      "C25 11/28/2021\n",
      "C26 11/28/2021\n",
      "C27 11/28/2021\n",
      "C28 11/28/2021\n"
     ]
    }
   ],
   "source": [
    "column_printer(orders, 'C')"
   ]
  },
  {
   "cell_type": "code",
   "execution_count": 9,
   "id": "b653f668",
   "metadata": {},
   "outputs": [
    {
     "name": "stdout",
     "output_type": "stream",
     "text": [
      "D1 Subtotal\n",
      "D2 15.98\n",
      "D3 899.97\n",
      "D4 799.97\n",
      "D5 117.96\n",
      "D6 5.99\n",
      "D7 599.99\n",
      "D8 24.99\n",
      "D9 1799.94\n",
      "D10 99.99\n",
      "D11 254.95\n",
      "D12 29.98\n",
      "D13 99.99\n",
      "D14 25.98\n",
      "D15 649.98\n",
      "D16 89.99\n",
      "D17 119.99\n",
      "D18 599.99\n",
      "D19 649.98\n",
      "D20 24.99\n",
      "D21 99.99\n",
      "D22 99.99\n",
      "D23 5.99\n",
      "D24 24.99\n",
      "D25 999.96\n",
      "D26 99.99\n",
      "D27 399.97\n",
      "D28 89.99\n"
     ]
    }
   ],
   "source": [
    "column_printer(orders, 'D')"
   ]
  },
  {
   "cell_type": "code",
   "execution_count": 10,
   "id": "322802d7-2f3b-4057-ae99-6fc5f730d8f3",
   "metadata": {},
   "outputs": [
    {
     "name": "stdout",
     "output_type": "stream",
     "text": [
      "E1 Tax\n",
      "E2 None\n",
      "E3 None\n",
      "E4 None\n",
      "E5 None\n",
      "E6 None\n",
      "E7 None\n",
      "E8 None\n",
      "E9 None\n",
      "E10 None\n",
      "E11 None\n",
      "E12 None\n",
      "E13 None\n",
      "E14 None\n",
      "E15 None\n",
      "E16 None\n",
      "E17 None\n",
      "E18 None\n",
      "E19 None\n",
      "E20 None\n",
      "E21 None\n",
      "E22 None\n",
      "E23 None\n",
      "E24 None\n",
      "E25 None\n",
      "E26 None\n",
      "E27 None\n",
      "E28 None\n"
     ]
    }
   ],
   "source": [
    "column_printer(orders, 'E')"
   ]
  },
  {
   "cell_type": "code",
   "execution_count": 11,
   "id": "ce284f70-3b0d-44e4-9620-af34386b6703",
   "metadata": {},
   "outputs": [
    {
     "name": "stdout",
     "output_type": "stream",
     "text": [
      "F1 Total\n",
      "F2 None\n",
      "F3 None\n",
      "F4 None\n",
      "F5 None\n",
      "F6 None\n",
      "F7 None\n",
      "F8 None\n",
      "F9 None\n",
      "F10 None\n",
      "F11 None\n",
      "F12 None\n",
      "F13 None\n",
      "F14 None\n",
      "F15 None\n",
      "F16 None\n",
      "F17 None\n",
      "F18 None\n",
      "F19 None\n",
      "F20 None\n",
      "F21 None\n",
      "F22 None\n",
      "F23 None\n",
      "F24 None\n",
      "F25 None\n",
      "F26 None\n",
      "F27 None\n",
      "F28 None\n"
     ]
    }
   ],
   "source": [
    "column_printer(orders, 'F')"
   ]
  },
  {
   "cell_type": "code",
   "execution_count": 12,
   "id": "f721c41c-f5b7-4a2b-a663-78f1d7f50f7e",
   "metadata": {},
   "outputs": [
    {
     "name": "stdout",
     "output_type": "stream",
     "text": [
      "G1 Location\n",
      "G2 Sun Valley\n",
      "G3 Stowe\n",
      "G4 Mammoth\n",
      "G5 Stowe\n",
      "G6 Sun Valley\n",
      "G7 Mammoth\n",
      "G8 Mammoth\n",
      "G9 Mammoth\n",
      "G10 Sun Valley\n",
      "G11 Sun Valley\n",
      "G12 Mammoth\n",
      "G13 Mammoth\n",
      "G14 Sun Valley\n",
      "G15 Stowe\n",
      "G16 Sun Valley\n",
      "G17 Sun Valley\n",
      "G18 Stowe\n",
      "G19 Sun Valley\n",
      "G20 Stowe\n",
      "G21 Stowe\n",
      "G22 Mammoth\n",
      "G23 Sun Valley\n",
      "G24 Mammoth\n",
      "G25 Stowe\n",
      "G26 Stowe\n",
      "G27 Mammoth\n",
      "G28 Stowe\n"
     ]
    }
   ],
   "source": [
    "column_printer(orders, 'G')"
   ]
  },
  {
   "cell_type": "code",
   "execution_count": 13,
   "id": "7ea8b201-1539-47ec-8b5d-67764ac88f80",
   "metadata": {},
   "outputs": [
    {
     "name": "stdout",
     "output_type": "stream",
     "text": [
      "H1 Items_Ordered\n",
      "H2 10001, 10002\n",
      "H3 10008, 10009, 10010\n",
      "H4 10011, 10012, 10013\n",
      "H5 10002, 10003, 10004, 10006\n",
      "H6 10001\n",
      "H7 10010\n",
      "H8 10004\n",
      "H9 10008, 10008, 10009, 10009, 10009, 10010, 10010\n",
      "H10 10005\n",
      "H11 10002, 10003, 10004, 10006, 10007\n",
      "H12 10002, 10003\n",
      "H13 10005\n",
      "H14 10001, 10003\n",
      "H15 10012, 10013\n",
      "H16 10014\n",
      "H17 10007\n",
      "H18 10010\n",
      "H19 10012, 10013\n",
      "H20 10004\n",
      "H21 10005\n",
      "H22 10008\n",
      "H23 10001\n",
      "H24 10002\n",
      "H25 10005, 10008, 10009, 10010\n",
      "H26 10006\n",
      "H27 10005, 10008, 10009\n",
      "H28 10014\n"
     ]
    }
   ],
   "source": [
    "column_printer(orders, 'H')"
   ]
  },
  {
   "cell_type": "code",
   "execution_count": null,
   "id": "5e7b64a6-7612-494a-90fd-cdf0b296270a",
   "metadata": {},
   "outputs": [],
   "source": []
  },
  {
   "cell_type": "markdown",
   "id": "b4b6d8ea",
   "metadata": {},
   "source": [
    "### Order Data Dictionary\n",
    "\n",
    "Create a dictionary with all of the information contained in the 'Orders_Info' Worksheet.\n",
    "\n",
    "* The dictionary keys should be Order IDs (Column A)\n",
    "* The values should a list storing the data in the rest of the columns.\n",
    "* The columns in the list stored as values should be B, C, D, G, and H (after converting to list). \n",
    "* For example: The first order, column H should be the nested list: [10001, 10002]\n",
    "\n",
    "\n",
    "A few notes:\n",
    "\n",
    "* Convert the Items_Ordered field into a list (we covered a helpful string method for this)\n",
    "* This can be done with a dictionary comprehension\n",
    "* DO NOT INCLUDE EXCEL COLUMN HEADERS"
   ]
  },
  {
   "cell_type": "code",
   "execution_count": 14,
   "id": "0bbb4a35",
   "metadata": {},
   "outputs": [
    {
     "data": {
      "text/plain": [
       "27"
      ]
     },
     "execution_count": 14,
     "metadata": {},
     "output_type": "execute_result"
    }
   ],
   "source": [
    "order_id = []\n",
    "\n",
    "for i, cell in enumerate(orders['A'], start= 1):\n",
    "    if i != 1:\n",
    "        order_id.append(cell.value)\n",
    "\n",
    "order_id\n",
    "len(order_id)"
   ]
  },
  {
   "cell_type": "code",
   "execution_count": 15,
   "id": "7faaf717-56b3-42f8-affa-d6ab71c6b88f",
   "metadata": {},
   "outputs": [
    {
     "data": {
      "text/plain": [
       "27"
      ]
     },
     "execution_count": 15,
     "metadata": {},
     "output_type": "execute_result"
    }
   ],
   "source": [
    "customer_id = []\n",
    "\n",
    "for i, cell in enumerate(orders['B'], start= 1):\n",
    "    if i != 1:\n",
    "        customer_id.append(cell.value)\n",
    "\n",
    "customer_id\n",
    "len(customer_id)"
   ]
  },
  {
   "cell_type": "code",
   "execution_count": 16,
   "id": "934d9798-7091-4171-92a8-f9256cda9b8e",
   "metadata": {},
   "outputs": [
    {
     "data": {
      "text/plain": [
       "27"
      ]
     },
     "execution_count": 16,
     "metadata": {},
     "output_type": "execute_result"
    }
   ],
   "source": [
    "order_date = []\n",
    "\n",
    "for i, cell in enumerate(orders['C'], start= 1):\n",
    "    if i != 1:\n",
    "        order_date.append(cell.value)\n",
    "\n",
    "order_date\n",
    "len(order_date)"
   ]
  },
  {
   "cell_type": "code",
   "execution_count": 17,
   "id": "1dde404e-83d7-4c62-a9ca-47bf832fe39c",
   "metadata": {},
   "outputs": [
    {
     "data": {
      "text/plain": [
       "27"
      ]
     },
     "execution_count": 17,
     "metadata": {},
     "output_type": "execute_result"
    }
   ],
   "source": [
    "subtotal = []\n",
    "\n",
    "for i, cell in enumerate(orders['D'], start= 1):\n",
    "    if i != 1:\n",
    "        subtotal.append(cell.value)\n",
    "\n",
    "subtotal\n",
    "len(subtotal)"
   ]
  },
  {
   "cell_type": "code",
   "execution_count": 18,
   "id": "810ea356-ef60-4613-8551-e163e37d3642",
   "metadata": {},
   "outputs": [
    {
     "data": {
      "text/plain": [
       "27"
      ]
     },
     "execution_count": 18,
     "metadata": {},
     "output_type": "execute_result"
    }
   ],
   "source": [
    "location = []\n",
    "\n",
    "for i, cell in enumerate(orders['G'], start= 1):\n",
    "    if i != 1:\n",
    "        location.append(cell.value)\n",
    "\n",
    "location\n",
    "len(location)"
   ]
  },
  {
   "cell_type": "code",
   "execution_count": 19,
   "id": "ff5d5f6c-eb5c-4251-b0e3-c9006e460245",
   "metadata": {},
   "outputs": [
    {
     "data": {
      "text/plain": [
       "['10001, 10002',\n",
       " '10008, 10009, 10010',\n",
       " '10011, 10012, 10013',\n",
       " '10002, 10003, 10004, 10006',\n",
       " 10001,\n",
       " 10010,\n",
       " 10004,\n",
       " '10008, 10008, 10009, 10009, 10009, 10010, 10010',\n",
       " 10005,\n",
       " '10002, 10003, 10004, 10006, 10007',\n",
       " '10002, 10003',\n",
       " 10005,\n",
       " '10001, 10003',\n",
       " '10012, 10013',\n",
       " 10014,\n",
       " 10007,\n",
       " 10010,\n",
       " '10012, 10013',\n",
       " 10004,\n",
       " 10005,\n",
       " 10008,\n",
       " 10001,\n",
       " 10002,\n",
       " '10005, 10008, 10009, 10010',\n",
       " 10006,\n",
       " '10005, 10008, 10009',\n",
       " 10014]"
      ]
     },
     "execution_count": 19,
     "metadata": {},
     "output_type": "execute_result"
    }
   ],
   "source": [
    "items_ordered = []\n",
    "\n",
    "for i, cell in enumerate(orders['H'], start= 1):\n",
    "    if i != 1:\n",
    "        items_ordered.append(cell.value)\n",
    "\n",
    "items_ordered\n"
   ]
  },
  {
   "cell_type": "code",
   "execution_count": 20,
   "id": "8292c25f-b46d-4718-b8e7-9322a44d1910",
   "metadata": {},
   "outputs": [],
   "source": [
    "order_dict = {\n",
    "    orders[f'A{order}'].value:[\n",
    "    orders[f'B{order}'].value,\n",
    "    orders[f'C{order}'].value,\n",
    "    orders[f'D{order}'].value,\n",
    "    orders[f'G{order}'].value,\n",
    "    str(orders[f'H{order}'].value).split(', ')\n",
    "    ]\n",
    "    for order in range(2, orders.max_row + 1)    \n",
    "}"
   ]
  },
  {
   "cell_type": "code",
   "execution_count": 21,
   "id": "78c7cdd2",
   "metadata": {},
   "outputs": [
    {
     "name": "stdout",
     "output_type": "stream",
     "text": [
      "{100000: ['C00004', '11/26/2021', 15.98, 'Sun Valley', ['10001', '10002']],\n",
      " 100001: ['C00007', '11/26/2021', 899.97, 'Stowe', ['10008', '10009', '10010']],\n",
      " 100002: ['C00015',\n",
      "          '11/26/2021',\n",
      "          799.97,\n",
      "          'Mammoth',\n",
      "          ['10011', '10012', '10013']],\n",
      " 100003: ['C00016',\n",
      "          '11/26/2021',\n",
      "          117.96,\n",
      "          'Stowe',\n",
      "          ['10002', '10003', '10004', '10006']],\n",
      " 100004: ['C00020', '11/26/2021', 5.99, 'Sun Valley', ['10001']],\n",
      " 100005: ['C00010', '11/26/2021', 599.99, 'Mammoth', ['10010']],\n",
      " 100006: ['C00006', '11/26/2021', 24.99, 'Mammoth', ['10004']],\n",
      " 100007: ['C00001',\n",
      "          '11/26/2021',\n",
      "          1799.94,\n",
      "          'Mammoth',\n",
      "          ['10008', '10008', '10009', '10009', '10009', '10010', '10010']],\n",
      " 100008: ['C00003', '11/26/2021', 99.99, 'Sun Valley', ['10005']],\n",
      " 100009: ['C00014',\n",
      "          '11/26/2021',\n",
      "          254.95,\n",
      "          'Sun Valley',\n",
      "          ['10002', '10003', '10004', '10006', '10007']],\n",
      " 100010: ['C00001', '11/26/2021', 29.98, 'Mammoth', ['10002', '10003']],\n",
      " 100011: ['C00001', '11/26/2021', 99.99, 'Mammoth', ['10005']],\n",
      " 100012: ['C00005', '11/26/2021', 25.98, 'Sun Valley', ['10001', '10003']],\n",
      " 100013: ['C00008', '11/26/2021', 649.98, 'Stowe', ['10012', '10013']],\n",
      " 100014: ['C00013', '11/26/2021', 89.99, 'Sun Valley', ['10014']],\n",
      " 100020: ['C00004', '11/27/2021', 119.99, 'Sun Valley', ['10007']],\n",
      " 100021: ['C00017', '11/27/2021', 599.99, 'Stowe', ['10010']],\n",
      " 100022: ['C00019', '11/27/2021', 649.98, 'Sun Valley', ['10012', '10013']],\n",
      " 100023: ['C00002', '11/27/2021', 24.99, 'Stowe', ['10004']],\n",
      " 100024: ['C00008', '11/27/2021', 99.99, 'Stowe', ['10005']],\n",
      " 100025: ['C00021', '11/27/2021', 99.99, 'Mammoth', ['10008']],\n",
      " 100026: ['C00022', '11/27/2021', 5.99, 'Sun Valley', ['10001']],\n",
      " 100027: ['C00006', '11/28/2021', 24.99, 'Mammoth', ['10002']],\n",
      " 100031: ['C00018',\n",
      "          '11/28/2021',\n",
      "          999.96,\n",
      "          'Stowe',\n",
      "          ['10005', '10008', '10009', '10010']],\n",
      " 100032: ['C00018', '11/28/2021', 99.99, 'Stowe', ['10006']],\n",
      " 100033: ['C00010',\n",
      "          '11/28/2021',\n",
      "          399.97,\n",
      "          'Mammoth',\n",
      "          ['10005', '10008', '10009']],\n",
      " 100034: ['C00016', '11/28/2021', 89.99, 'Stowe', ['10014']]}\n"
     ]
    }
   ],
   "source": [
    "pprint(order_dict)"
   ]
  },
  {
   "cell_type": "markdown",
   "id": "0a01af28",
   "metadata": {},
   "source": [
    "### Sales Tax Calculation (Last time!)\n",
    "\n",
    "We need to calculate the sales tax and total amount owed for every order in this sheet.\n",
    "\n",
    "* If location is Sun Valley, apply a sales tax of 8%\n",
    "* If location is Mammoth, apply a sales tax of 7.75%.\n",
    "* If location is Stowe, apply a sales tax of 6%\n",
    "\n",
    "Use the tax_calculator function to apply sales tax to each subtotal.\n",
    "\n",
    "**Insert** the calculated sales tax and total amounts into your customer dictionary immediately after subtotal.\n",
    "\n",
    "**Tip**: Figure out how to do this once and then loop through the column."
   ]
  },
  {
   "cell_type": "code",
   "execution_count": 22,
   "id": "4e1c1e6a",
   "metadata": {},
   "outputs": [],
   "source": [
    "for order in order_dict.values():\n",
    "    if order[3] == \"Sun Valley\":\n",
    "        transaction = tc.tax_calculator(order[2], 0.08)\n",
    "    elif order[3] == \"Mammoth\":\n",
    "        transaction = tc.tax_calculator(order[2], 0.0775)\n",
    "    else:\n",
    "        transaction = tc.tax_calculator(order[2], 0.06)\n",
    "    order.insert(3, transaction[1])\n",
    "    order.insert(4,  transaction[2])"
   ]
  },
  {
   "cell_type": "code",
   "execution_count": 23,
   "id": "a0d8d395",
   "metadata": {},
   "outputs": [
    {
     "name": "stdout",
     "output_type": "stream",
     "text": [
      "{100000: ['C00004',\n",
      "          '11/26/2021',\n",
      "          15.98,\n",
      "          1.28,\n",
      "          17.26,\n",
      "          'Sun Valley',\n",
      "          ['10001', '10002']],\n",
      " 100001: ['C00007',\n",
      "          '11/26/2021',\n",
      "          899.97,\n",
      "          54.0,\n",
      "          953.97,\n",
      "          'Stowe',\n",
      "          ['10008', '10009', '10010']],\n",
      " 100002: ['C00015',\n",
      "          '11/26/2021',\n",
      "          799.97,\n",
      "          62.0,\n",
      "          861.97,\n",
      "          'Mammoth',\n",
      "          ['10011', '10012', '10013']],\n",
      " 100003: ['C00016',\n",
      "          '11/26/2021',\n",
      "          117.96,\n",
      "          7.08,\n",
      "          125.04,\n",
      "          'Stowe',\n",
      "          ['10002', '10003', '10004', '10006']],\n",
      " 100004: ['C00020', '11/26/2021', 5.99, 0.48, 6.47, 'Sun Valley', ['10001']],\n",
      " 100005: ['C00010', '11/26/2021', 599.99, 46.5, 646.49, 'Mammoth', ['10010']],\n",
      " 100006: ['C00006', '11/26/2021', 24.99, 1.94, 26.93, 'Mammoth', ['10004']],\n",
      " 100007: ['C00001',\n",
      "          '11/26/2021',\n",
      "          1799.94,\n",
      "          139.5,\n",
      "          1939.44,\n",
      "          'Mammoth',\n",
      "          ['10008', '10008', '10009', '10009', '10009', '10010', '10010']],\n",
      " 100008: ['C00003', '11/26/2021', 99.99, 8.0, 107.99, 'Sun Valley', ['10005']],\n",
      " 100009: ['C00014',\n",
      "          '11/26/2021',\n",
      "          254.95,\n",
      "          20.4,\n",
      "          275.35,\n",
      "          'Sun Valley',\n",
      "          ['10002', '10003', '10004', '10006', '10007']],\n",
      " 100010: ['C00001',\n",
      "          '11/26/2021',\n",
      "          29.98,\n",
      "          2.32,\n",
      "          32.3,\n",
      "          'Mammoth',\n",
      "          ['10002', '10003']],\n",
      " 100011: ['C00001', '11/26/2021', 99.99, 7.75, 107.74, 'Mammoth', ['10005']],\n",
      " 100012: ['C00005',\n",
      "          '11/26/2021',\n",
      "          25.98,\n",
      "          2.08,\n",
      "          28.06,\n",
      "          'Sun Valley',\n",
      "          ['10001', '10003']],\n",
      " 100013: ['C00008',\n",
      "          '11/26/2021',\n",
      "          649.98,\n",
      "          39.0,\n",
      "          688.98,\n",
      "          'Stowe',\n",
      "          ['10012', '10013']],\n",
      " 100014: ['C00013', '11/26/2021', 89.99, 7.2, 97.19, 'Sun Valley', ['10014']],\n",
      " 100020: ['C00004', '11/27/2021', 119.99, 9.6, 129.59, 'Sun Valley', ['10007']],\n",
      " 100021: ['C00017', '11/27/2021', 599.99, 36.0, 635.99, 'Stowe', ['10010']],\n",
      " 100022: ['C00019',\n",
      "          '11/27/2021',\n",
      "          649.98,\n",
      "          52.0,\n",
      "          701.98,\n",
      "          'Sun Valley',\n",
      "          ['10012', '10013']],\n",
      " 100023: ['C00002', '11/27/2021', 24.99, 1.5, 26.49, 'Stowe', ['10004']],\n",
      " 100024: ['C00008', '11/27/2021', 99.99, 6.0, 105.99, 'Stowe', ['10005']],\n",
      " 100025: ['C00021', '11/27/2021', 99.99, 7.75, 107.74, 'Mammoth', ['10008']],\n",
      " 100026: ['C00022', '11/27/2021', 5.99, 0.48, 6.47, 'Sun Valley', ['10001']],\n",
      " 100027: ['C00006', '11/28/2021', 24.99, 1.94, 26.93, 'Mammoth', ['10002']],\n",
      " 100031: ['C00018',\n",
      "          '11/28/2021',\n",
      "          999.96,\n",
      "          60.0,\n",
      "          1059.96,\n",
      "          'Stowe',\n",
      "          ['10005', '10008', '10009', '10010']],\n",
      " 100032: ['C00018', '11/28/2021', 99.99, 6.0, 105.99, 'Stowe', ['10006']],\n",
      " 100033: ['C00010',\n",
      "          '11/28/2021',\n",
      "          399.97,\n",
      "          31.0,\n",
      "          430.97,\n",
      "          'Mammoth',\n",
      "          ['10005', '10008', '10009']],\n",
      " 100034: ['C00016', '11/28/2021', 89.99, 5.4, 95.39, 'Stowe', ['10014']]}\n"
     ]
    }
   ],
   "source": [
    "pprint(order_dict)"
   ]
  },
  {
   "cell_type": "markdown",
   "id": "5d3460da",
   "metadata": {},
   "source": [
    "### Write Sales Tax and Total Into the Excel Sheet\n",
    "\n",
    "\n",
    "Great job! Now we just need to write this data into the workbook.\n",
    "\n",
    "Write the sales tax and total you just calculated into the workbook, then save!\n",
    "\n",
    "Call this workbook 'maven_ski_shop_data_fixed'.\n",
    "\n",
    "**Tip:** There are a few ways to do this. As always, be patient, solve one step at a time."
   ]
  },
  {
   "cell_type": "code",
   "execution_count": 24,
   "id": "957e2656",
   "metadata": {},
   "outputs": [],
   "source": [
    "for i, dict_order in enumerate(order_dict.values(), start=2):\n",
    "    orders[f'E{i}'] = dict_order[3]\n",
    "    orders[f'F{i}'] = dict_order[4]"
   ]
  },
  {
   "cell_type": "code",
   "execution_count": 25,
   "id": "0ed681d9",
   "metadata": {},
   "outputs": [],
   "source": [
    "wb.save('maven_ski_shop_data_fixed.xlsx')"
   ]
  },
  {
   "cell_type": "markdown",
   "id": "328ba670",
   "metadata": {},
   "source": [
    "## Part 2\n",
    "\n",
    "### Analysis Time!\n",
    "\n",
    "\n",
    "Now that we've fixed the data - it's time to perform analysis on our sales.\n",
    "\n",
    "Our starting point will be the order_dict we created, after we added the taxes and totals columns.\n",
    "\n",
    "Our first step will be to write a function that calculates the sum of a 'column' of data in our dictionary.\n",
    "\n",
    "A 'column' for example, would be subtotals, which is at index 2 in the list stored as our dictionary values.\n",
    "\n",
    "Your function should take the following arguments:\n",
    "\n",
    "* Column Index (the index of the data of interest in the list stored in our dictionary values)\n",
    "* Dictionary Name\n",
    "\n",
    "It should output:\n",
    "\n",
    "* The sum of values in the column (rounded to two decimal places)\n",
    "\n",
    "Assume only numeric values will be in the column (You can develop cleaning logic later :D)\n",
    "\n",
    "**Tip:** Use a list comprehension to retrieve the values of interest."
   ]
  },
  {
   "cell_type": "code",
   "execution_count": 26,
   "id": "327fc148-db5b-46b9-aa54-7dbbf6c62301",
   "metadata": {},
   "outputs": [
    {
     "data": {
      "text/plain": [
       "['C00010',\n",
       " '11/28/2021',\n",
       " 399.97,\n",
       " 31.0,\n",
       " 430.97,\n",
       " 'Mammoth',\n",
       " ['10005', '10008', '10009']]"
      ]
     },
     "execution_count": 26,
     "metadata": {},
     "output_type": "execute_result"
    }
   ],
   "source": [
    "order_dict[100033]"
   ]
  },
  {
   "cell_type": "code",
   "execution_count": 27,
   "id": "284693e9",
   "metadata": {},
   "outputs": [],
   "source": [
    "def column_sum(column_index, dictionary):\n",
    "    return round(sum(value[column_index] for value in dictionary.values()), 2)\n"
   ]
  },
  {
   "cell_type": "markdown",
   "id": "d83413fe",
   "metadata": {},
   "source": [
    "#### Sum The Subtotal, Tax, and Total Columns \n",
    "\n",
    "Now that we have our column sum function, calculate the sum of:\n",
    "\n",
    "* Subtotals\n",
    "* Taxes\n",
    "* Totals"
   ]
  },
  {
   "cell_type": "code",
   "execution_count": 28,
   "id": "f96d2f45",
   "metadata": {},
   "outputs": [
    {
     "name": "stdout",
     "output_type": "stream",
     "text": [
      "8731.47\n",
      "617.2\n",
      "9348.67\n"
     ]
    }
   ],
   "source": [
    "print(column_sum(2, order_dict))\n",
    "print(column_sum(3, order_dict))\n",
    "print(column_sum(4, order_dict))"
   ]
  },
  {
   "cell_type": "markdown",
   "id": "b2720242",
   "metadata": {},
   "source": [
    "### What is the average of our subtotals?\n",
    "\n",
    "Calculate the average value of our transactions.\n",
    "\n",
    "Remember that each entry in your dictionary is one order."
   ]
  },
  {
   "cell_type": "code",
   "execution_count": 29,
   "id": "1aa1093a",
   "metadata": {},
   "outputs": [
    {
     "data": {
      "text/plain": [
       "323.39"
      ]
     },
     "execution_count": 29,
     "metadata": {},
     "output_type": "execute_result"
    }
   ],
   "source": [
    "round(column_sum(2, order_dict) / len(order_dict), 2)"
   ]
  },
  {
   "cell_type": "markdown",
   "id": "fa8f7168",
   "metadata": {},
   "source": [
    "### How many unique customers did we have?\n",
    "\n",
    "Calculate the total number of unique customers in our sales data.\n",
    "\n",
    "Then calculate the number of orders per customer (total orders / unique customers)"
   ]
  },
  {
   "cell_type": "code",
   "execution_count": 30,
   "id": "7af182d6",
   "metadata": {},
   "outputs": [
    {
     "data": {
      "text/plain": [
       "19"
      ]
     },
     "execution_count": 30,
     "metadata": {},
     "output_type": "execute_result"
    }
   ],
   "source": [
    "number_of_unique_customers = len({value[0] for value in order_dict.values()})\n",
    "number_of_unique_customers"
   ]
  },
  {
   "cell_type": "code",
   "execution_count": 31,
   "id": "e8ed48c3-5919-4ce6-ba7c-070ea07c195a",
   "metadata": {},
   "outputs": [
    {
     "data": {
      "text/plain": [
       "1.4"
      ]
     },
     "execution_count": 31,
     "metadata": {},
     "output_type": "execute_result"
    }
   ],
   "source": [
    "number_of_orders_per_customer = round(len(order_dict) / number_of_unique_customers, 1)\n",
    "number_of_orders_per_customer"
   ]
  },
  {
   "cell_type": "markdown",
   "id": "ff483459",
   "metadata": {},
   "source": [
    "### How many items in total did we sell?\n",
    "\n",
    "Calculate the total number of items we sold in across all orders. \n",
    "\n",
    "This information is in Column H, which should be the last element in order_dict's values."
   ]
  },
  {
   "cell_type": "code",
   "execution_count": 32,
   "id": "2f7d15ac",
   "metadata": {},
   "outputs": [
    {
     "data": {
      "text/plain": [
       "54"
      ]
     },
     "execution_count": 32,
     "metadata": {},
     "output_type": "execute_result"
    }
   ],
   "source": [
    "sum(len(value[6]) for value in order_dict.values())"
   ]
  },
  {
   "cell_type": "markdown",
   "id": "05abd311",
   "metadata": {},
   "source": [
    "### Sales By Location\n",
    "\n",
    "Calculate the sum of subtotals by location.\n",
    "\n",
    "Create a dictionary to store them, where location is the key, and revenue for that location is the value.\n",
    "\n",
    "A few steps to consider:\n",
    "\n",
    "* Loop through your dictionary\n",
    "* build a dictionary as you go with location as key\n",
    "* increment revenue every time a transaction matches the location.\n",
    "\n",
    "\n",
    "Your output should look like \n",
    "{'Location1': sum of subtotals for 'Location1'}\n",
    "\n",
    "With an entry for each location."
   ]
  },
  {
   "cell_type": "code",
   "execution_count": 33,
   "id": "960a8d1b",
   "metadata": {},
   "outputs": [
    {
     "data": {
      "text/plain": [
       "{'Sun Valley': 1252.86,\n",
       " 'Stowe': 2682.8499999999995,\n",
       " 'Mammoth': 3079.8399999999992}"
      ]
     },
     "execution_count": 33,
     "metadata": {},
     "output_type": "execute_result"
    }
   ],
   "source": [
    "location_sums = {}\n",
    "\n",
    "for value in order_dict.values():\n",
    "    location = value[5]\n",
    "    if location not in location_sums:\n",
    "        location_sums[location] = 0\n",
    "    else:\n",
    "        location_sums[location] += value[2]\n",
    "\n",
    "location_sums"
   ]
  },
  {
   "cell_type": "code",
   "execution_count": 34,
   "id": "efb219ae-4bb5-4426-8495-e9d876ebfb8b",
   "metadata": {},
   "outputs": [
    {
     "data": {
      "text/plain": [
       "{'Sun Valley': 1268.84, 'Stowe': 3582.82, 'Mammoth': 3879.81}"
      ]
     },
     "execution_count": 34,
     "metadata": {},
     "output_type": "execute_result"
    }
   ],
   "source": [
    "location_sums = {}\n",
    "\n",
    "for value in order_dict.values():\n",
    "    location = value[5]\n",
    "    location_sums[location] = round(location_sums.get(location,0) + value[2], 2)\n",
    "location_sums"
   ]
  },
  {
   "cell_type": "markdown",
   "id": "a9ffa683",
   "metadata": {},
   "source": [
    "### Challenge: Aggregator Function\n",
    "\n",
    "Now that you've summed revenue by category (you just summed by location), can you write a function to generalize calculating a sum of a column, grouped by the unique values in another column? (for example, sum of totals by date or customer_id).\n",
    "\n",
    "Your function should take the following arguments:\n",
    "* index of the 'column' (index position in order_dict) to group by\n",
    "* index of the 'column' (index position in order_dict) to sum by category\n",
    "* the dictionary where the data is located (assume the same structure as order_dict.\n",
    "\n",
    "It should return:\n",
    "* A dictionary with the categories as keys, and the sum by category as value.\n",
    "\n",
    "Once you've done so use your function to sum totals by date and customer_id."
   ]
  },
  {
   "cell_type": "code",
   "execution_count": 35,
   "id": "32c8ca53",
   "metadata": {},
   "outputs": [],
   "source": [
    "def aggregator(category_index, col_to_sum_index, dictionary):\n",
    "    \n",
    "    category_sums = {}   \n",
    "    \n",
    "    for value in dictionary.values():\n",
    "        category = value[category_index]\n",
    "        category_sums[category] = round(category_sums.get(category,0) + value[col_to_sum_index], 2)\n",
    "\n",
    "    return category_sums"
   ]
  },
  {
   "cell_type": "code",
   "execution_count": 36,
   "id": "b034d599",
   "metadata": {},
   "outputs": [
    {
     "data": {
      "text/plain": [
       "{'11/26/2021': 5915.18, '11/27/2021': 1714.25, '11/28/2021': 1719.24}"
      ]
     },
     "execution_count": 36,
     "metadata": {},
     "output_type": "execute_result"
    }
   ],
   "source": [
    "# index 1 = date, index 4 = total\n",
    "aggregator(1, 4, order_dict)"
   ]
  },
  {
   "cell_type": "code",
   "execution_count": 37,
   "id": "92703b3d",
   "metadata": {},
   "outputs": [
    {
     "data": {
      "text/plain": [
       "{'C00004': 146.85,\n",
       " 'C00007': 953.97,\n",
       " 'C00015': 861.97,\n",
       " 'C00016': 220.43,\n",
       " 'C00020': 6.47,\n",
       " 'C00010': 1077.46,\n",
       " 'C00006': 53.86,\n",
       " 'C00001': 2079.48,\n",
       " 'C00003': 107.99,\n",
       " 'C00014': 275.35,\n",
       " 'C00005': 28.06,\n",
       " 'C00008': 794.97,\n",
       " 'C00013': 97.19,\n",
       " 'C00017': 635.99,\n",
       " 'C00019': 701.98,\n",
       " 'C00002': 26.49,\n",
       " 'C00021': 107.74,\n",
       " 'C00022': 6.47,\n",
       " 'C00018': 1165.95}"
      ]
     },
     "execution_count": 37,
     "metadata": {},
     "output_type": "execute_result"
    }
   ],
   "source": [
    "# index 0 = customer_id\n",
    "aggregator(0, 4, order_dict)"
   ]
  },
  {
   "cell_type": "code",
   "execution_count": null,
   "id": "03483866",
   "metadata": {},
   "outputs": [],
   "source": []
  }
 ],
 "metadata": {
  "kernelspec": {
   "display_name": "Python 3 (ipykernel)",
   "language": "python",
   "name": "python3"
  },
  "language_info": {
   "codemirror_mode": {
    "name": "ipython",
    "version": 3
   },
   "file_extension": ".py",
   "mimetype": "text/x-python",
   "name": "python",
   "nbconvert_exporter": "python",
   "pygments_lexer": "ipython3",
   "version": "3.11.5"
  }
 },
 "nbformat": 4,
 "nbformat_minor": 5
}
